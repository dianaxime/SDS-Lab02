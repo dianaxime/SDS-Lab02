{
 "cells": [
  {
   "cell_type": "code",
   "execution_count": null,
   "id": "fe9f3b10",
   "metadata": {
    "scrolled": true
   },
   "outputs": [],
   "source": [
    "import nltk\n",
    "nltk.download('punkt')\n",
    "nltk.download('wordnet')\n",
    "nltk.download('stopwords')\n",
    "nltk.download('averaged_perceptron_tagger')"
   ]
  },
  {
   "cell_type": "markdown",
   "id": "bc2ff184",
   "metadata": {},
   "source": [
    "Conversion de mayusculas o minusculas"
   ]
  },
  {
   "cell_type": "code",
   "execution_count": null,
   "id": "fc4acf54",
   "metadata": {},
   "outputs": [],
   "source": [
    "oracion = 'ESTE es UN ejemplo DE mayusculas Y minusculas'\n",
    "oracion"
   ]
  },
  {
   "cell_type": "code",
   "execution_count": null,
   "id": "042c5ce1",
   "metadata": {},
   "outputs": [],
   "source": [
    "oracion.lower()"
   ]
  },
  {
   "cell_type": "code",
   "execution_count": null,
   "id": "cc289905",
   "metadata": {},
   "outputs": [],
   "source": [
    "oracion.upper()"
   ]
  },
  {
   "cell_type": "code",
   "execution_count": null,
   "id": "aaddba01",
   "metadata": {},
   "outputs": [],
   "source": [
    "oracion.title()"
   ]
  },
  {
   "cell_type": "markdown",
   "id": "c72901cc",
   "metadata": {},
   "source": [
    "Tokens"
   ]
  },
  {
   "cell_type": "code",
   "execution_count": null,
   "id": "429024e4",
   "metadata": {},
   "outputs": [],
   "source": [
    "print(nltk.word_tokenize(oracion))"
   ]
  },
  {
   "cell_type": "code",
   "execution_count": null,
   "id": "dcffc8d6",
   "metadata": {},
   "outputs": [],
   "source": [
    "import unicodedata\n",
    "\n",
    "def removerAcentos(texto):\n",
    "    texto = unicodedata.normalize('NFKD', texto).encode('ascii','ignore').decode('utf-8','ignore')\n",
    "    return texto"
   ]
  },
  {
   "cell_type": "code",
   "execution_count": null,
   "id": "96fb4cb8",
   "metadata": {},
   "outputs": [],
   "source": [
    "oracion = 'Esté es Un ÉJÉmpLó de data acetÚADá'\n",
    "oracion"
   ]
  },
  {
   "cell_type": "code",
   "execution_count": null,
   "id": "088363b5",
   "metadata": {},
   "outputs": [],
   "source": [
    "removerAcentos(oracion.lower())"
   ]
  },
  {
   "cell_type": "markdown",
   "id": "646766a9",
   "metadata": {},
   "source": [
    "Remover caracteres especiales, numeros y simbolos"
   ]
  },
  {
   "cell_type": "code",
   "execution_count": null,
   "id": "7d133fd1",
   "metadata": {},
   "outputs": [],
   "source": [
    "import re\n",
    "def removerCaracteresEspecialesNumerosSimbolos(texto, removerDigitos =False):\n",
    "    patron = r'[^a-zA-Z0-9\\s]' if not removerDigitos else r'[^a-zA-Z\\s]'\n",
    "    texto = re.sub(patron,'', texto)\n",
    "    return texto\n",
    "oracion = 'Hoy es el partido de fútbol a las 7:45 @$%&'\n",
    "removerCaracteresEspecialesNumerosSimbolos(removerAcentos(oracion))\n"
   ]
  },
  {
   "cell_type": "code",
   "execution_count": null,
   "id": "089eec51",
   "metadata": {},
   "outputs": [],
   "source": [
    "removerCaracteresEspecialesNumerosSimbolos(removerAcentos(oracion), True)"
   ]
  },
  {
   "cell_type": "markdown",
   "id": "99d39b53",
   "metadata": {},
   "source": [
    "Expansión de contracciones"
   ]
  },
  {
   "cell_type": "code",
   "execution_count": null,
   "id": "387d6233",
   "metadata": {},
   "outputs": [],
   "source": [
    "!pip install contractions\n",
    "!pip install textsearch"
   ]
  },
  {
   "cell_type": "code",
   "execution_count": null,
   "id": "00f40da6",
   "metadata": {},
   "outputs": [],
   "source": [
    "texto = \"Y'all can't expand contractions I'd think! You wouldn't be able to. How'd you do it?\"\n",
    "texto"
   ]
  },
  {
   "cell_type": "code",
   "execution_count": null,
   "id": "f1286a7c",
   "metadata": {},
   "outputs": [],
   "source": [
    "import contractions\n",
    "list(contractions.contractions_dict.items())[:10]"
   ]
  },
  {
   "cell_type": "code",
   "execution_count": null,
   "id": "3b92ccfc",
   "metadata": {},
   "outputs": [],
   "source": [
    "contractions.fix(texto)"
   ]
  },
  {
   "cell_type": "markdown",
   "id": "2507f326",
   "metadata": {},
   "source": [
    "Stop Words"
   ]
  },
  {
   "cell_type": "code",
   "execution_count": null,
   "id": "5c0c8270",
   "metadata": {},
   "outputs": [],
   "source": [
    "oracion = 'ESTE es UN ejemplo DE mayusculas Y minusculas'\n",
    "import nltk\n",
    "nltk.download('stopwords')"
   ]
  },
  {
   "cell_type": "code",
   "execution_count": null,
   "id": "00a95eb8",
   "metadata": {},
   "outputs": [],
   "source": [
    "tokens = nltk.word_tokenize(oracion)\n",
    "tokens"
   ]
  },
  {
   "cell_type": "code",
   "execution_count": null,
   "id": "f579b1c3",
   "metadata": {},
   "outputs": [],
   "source": [
    "stop_words_spanish = nltk.corpus.stopwords.words('spanish')\n",
    "tokens_filtrados = [token for token in tokens if token not in stop_words_spanish]\n",
    "tokens_filtrados"
   ]
  },
  {
   "cell_type": "code",
   "execution_count": null,
   "id": "9071c671",
   "metadata": {},
   "outputs": [],
   "source": [
    "stop_words_english = nltk.corpus.stopwords.words('english')"
   ]
  },
  {
   "cell_type": "code",
   "execution_count": null,
   "id": "bb5c57b6",
   "metadata": {},
   "outputs": [],
   "source": [
    "tokens_english = nltk.word_tokenize(contractions.fix(texto))\n",
    "tokens_filtrados_english = [token for token in tokens_english if token not in stop_words_english]\n",
    "texto\n"
   ]
  },
  {
   "cell_type": "code",
   "execution_count": null,
   "id": "bd445c8f",
   "metadata": {},
   "outputs": [],
   "source": [
    "tokens_filtrados_english"
   ]
  },
  {
   "cell_type": "markdown",
   "id": "6e8c47e7",
   "metadata": {},
   "source": [
    "Stemming"
   ]
  },
  {
   "cell_type": "code",
   "execution_count": null,
   "id": "6e996cd9",
   "metadata": {},
   "outputs": [],
   "source": [
    "from nltk.stem import PorterStemmer\n",
    "ps = PorterStemmer()\n",
    "ps.stem('jumping'), ps.stem('jumps'), ps.stem('jumped')\n"
   ]
  },
  {
   "cell_type": "markdown",
   "id": "08a4dc9c",
   "metadata": {},
   "source": [
    "Lemmatization"
   ]
  },
  {
   "cell_type": "code",
   "execution_count": null,
   "id": "56c1ff8d",
   "metadata": {},
   "outputs": [],
   "source": [
    "from nltk.stem import WordNetLemmatizer\n",
    "wnl = WordNetLemmatizer()"
   ]
  },
  {
   "cell_type": "code",
   "execution_count": null,
   "id": "433c5c2c",
   "metadata": {},
   "outputs": [],
   "source": [
    "#Lemmatize sustantivos\n",
    "print(wnl.lemmatize('cars', 'n'))\n",
    "print(wnl.lemmatize('boxes', 'n'))"
   ]
  },
  {
   "cell_type": "code",
   "execution_count": null,
   "id": "0a714a18",
   "metadata": {},
   "outputs": [],
   "source": [
    "#Lemmatize verbos\n",
    "print(wnl.lemmatize('jumped', 'v'))\n",
    "print(wnl.lemmatize('jumping', 'v'))"
   ]
  },
  {
   "cell_type": "code",
   "execution_count": null,
   "id": "7932a375",
   "metadata": {},
   "outputs": [],
   "source": [
    "#Lemmatize adjetivos\n",
    "print(wnl.lemmatize('saddest', 'a'))\n",
    "print(wnl.lemmatize('fancier', 'a'))"
   ]
  },
  {
   "cell_type": "code",
   "execution_count": null,
   "id": "b29d3e32",
   "metadata": {},
   "outputs": [],
   "source": []
  }
 ],
 "metadata": {
  "kernelspec": {
   "display_name": "Python 3",
   "language": "python",
   "name": "python3"
  },
  "language_info": {
   "codemirror_mode": {
    "name": "ipython",
    "version": 3
   },
   "file_extension": ".py",
   "mimetype": "text/x-python",
   "name": "python",
   "nbconvert_exporter": "python",
   "pygments_lexer": "ipython3",
   "version": "3.7.3"
  }
 },
 "nbformat": 4,
 "nbformat_minor": 5
}

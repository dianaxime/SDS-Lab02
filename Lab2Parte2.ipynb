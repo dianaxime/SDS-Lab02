{
 "cells": [
  {
   "cell_type": "code",
   "execution_count": 1,
   "id": "c5f48b9a",
   "metadata": {},
   "outputs": [],
   "source": [
    "import pandas as pd\n",
    "import numpy as np\n",
    "import matplotlib.pyplot as plt\n",
    "from sklearn import metrics, model_selection, tree\n",
    "from sklearn.naive_bayes import MultinomialNB"
   ]
  },
  {
   "cell_type": "code",
   "execution_count": 2,
   "id": "779f825b",
   "metadata": {},
   "outputs": [],
   "source": [
    "df1 = pd.read_csv('enronSpamSubset.csv')\n",
    "df2 = pd.read_csv('completeSpamAssassin.csv')"
   ]
  },
  {
   "cell_type": "code",
   "execution_count": 3,
   "id": "c3112983",
   "metadata": {},
   "outputs": [],
   "source": [
    "df_bog = pd.read_csv('bog.csv')"
   ]
  },
  {
   "cell_type": "code",
   "execution_count": 4,
   "id": "c30fb6d5",
   "metadata": {},
   "outputs": [],
   "source": [
    "df_tfid = pd.read_csv('tfid.csv')"
   ]
  },
  {
   "cell_type": "code",
   "execution_count": 5,
   "id": "54ff6e79",
   "metadata": {},
   "outputs": [],
   "source": [
    "df_ngram = pd.read_csv('bigram.csv')"
   ]
  },
  {
   "cell_type": "code",
   "execution_count": 6,
   "id": "b2783cba",
   "metadata": {},
   "outputs": [],
   "source": [
    "frames = [df1, df2]\n",
    "df_final = pd.concat(frames)"
   ]
  },
  {
   "cell_type": "code",
   "execution_count": 7,
   "id": "433b68dd",
   "metadata": {},
   "outputs": [],
   "source": [
    "bog_train, bog_test, bog_target_train, bog_target_test = model_selection.train_test_split(df_bog, df_final['Label'], test_size=0.3, random_state=31)"
   ]
  },
  {
   "cell_type": "code",
   "execution_count": 8,
   "id": "0f905ee6",
   "metadata": {},
   "outputs": [],
   "source": [
    "tfid_train, tfid_test, tfid_target_train, tfid_target_test = model_selection.train_test_split(df_tfid, df_final['Label'], test_size=0.3, random_state=31)"
   ]
  },
  {
   "cell_type": "code",
   "execution_count": 9,
   "id": "c10a74c4",
   "metadata": {},
   "outputs": [],
   "source": [
    "ngram_train, ngram_test, ngram_target_train, ngram_target_test = model_selection.train_test_split(df_ngram, df_final['Label'], test_size=0.3, random_state=31)"
   ]
  },
  {
   "cell_type": "markdown",
   "id": "626b13ab",
   "metadata": {},
   "source": [
    "### Modelo 1"
   ]
  },
  {
   "cell_type": "code",
   "execution_count": 10,
   "id": "7f6fa0d3",
   "metadata": {},
   "outputs": [
    {
     "data": {
      "text/plain": [
       "MultinomialNB()"
      ]
     },
     "execution_count": 10,
     "metadata": {},
     "output_type": "execute_result"
    }
   ],
   "source": [
    "naive_bog = MultinomialNB()\n",
    "naive_bog.fit(bog_train, bog_target_train)"
   ]
  },
  {
   "cell_type": "code",
   "execution_count": 11,
   "id": "d443a09b",
   "metadata": {},
   "outputs": [],
   "source": [
    "pred_bog = naive_bog.predict(bog_test)"
   ]
  },
  {
   "cell_type": "code",
   "execution_count": 12,
   "id": "c15b9a56",
   "metadata": {
    "scrolled": true
   },
   "outputs": [
    {
     "name": "stdout",
     "output_type": "stream",
     "text": [
      "0.7611134191940174\n",
      "Matriz de confusion [[2093  639]\n",
      " [ 511 1571]]\n",
      "              precision    recall  f1-score   support\n",
      "\n",
      "           0       0.80      0.77      0.78      2732\n",
      "           1       0.71      0.75      0.73      2082\n",
      "\n",
      "    accuracy                           0.76      4814\n",
      "   macro avg       0.76      0.76      0.76      4814\n",
      "weighted avg       0.76      0.76      0.76      4814\n",
      "\n"
     ]
    }
   ],
   "source": [
    "print(metrics.accuracy_score(bog_target_test, pred_bog))\n",
    "print('Matriz de confusion', metrics.confusion_matrix(bog_target_test, pred_bog))\n",
    "print(metrics.classification_report(bog_target_test, pred_bog, target_names=['0', '1']))"
   ]
  },
  {
   "cell_type": "code",
   "execution_count": 15,
   "id": "1f43dfea",
   "metadata": {
    "scrolled": true
   },
   "outputs": [
    {
     "name": "stderr",
     "output_type": "stream",
     "text": [
      "C:\\Users\\Ximena\\AppData\\Local\\Programs\\Python\\Python310\\lib\\site-packages\\sklearn\\utils\\deprecation.py:87: FutureWarning: Function plot_roc_curve is deprecated; Function :func:`plot_roc_curve` is deprecated in 1.0 and will be removed in 1.2. Use one of the class methods: :meth:`sklearn.metric.RocCurveDisplay.from_predictions` or :meth:`sklearn.metric.RocCurveDisplay.from_estimator`.\n",
      "  warnings.warn(msg, category=FutureWarning)\n"
     ]
    },
    {
     "data": {
      "image/png": "[encoded data removed]",
      "text/plain": [
       "<Figure size 432x288 with 1 Axes>"
      ]
     },
     "metadata": {
      "needs_background": "light"
     },
     "output_type": "display_data"
    }
   ],
   "source": [
    "metrics.plot_roc_curve(naive_bog, bog_test, bog_target_test)\n",
    "plt.show()"
   ]
  },
  {
   "cell_type": "markdown",
   "id": "3d2eacf8",
   "metadata": {},
   "source": [
    "### Modelo 2"
   ]
  },
  {
   "cell_type": "code",
   "execution_count": 16,
   "id": "ef7f117c",
   "metadata": {},
   "outputs": [
    {
     "data": {
      "text/plain": [
       "MultinomialNB()"
      ]
     },
     "execution_count": 16,
     "metadata": {},
     "output_type": "execute_result"
    }
   ],
   "source": [
    "naive_tfid = MultinomialNB()\n",
    "naive_tfid.fit(tfid_train, tfid_target_train)"
   ]
  },
  {
   "cell_type": "code",
   "execution_count": 17,
   "id": "6805157d",
   "metadata": {},
   "outputs": [],
   "source": [
    "pred_tfid = naive_tfid.predict(tfid_test)"
   ]
  },
  {
   "cell_type": "code",
   "execution_count": 18,
   "id": "7bc2a36b",
   "metadata": {
    "scrolled": true
   },
   "outputs": [
    {
     "name": "stdout",
     "output_type": "stream",
     "text": [
      "0.8331948483589531\n",
      "Matriz de confusion [[2399  333]\n",
      " [ 470 1612]]\n",
      "              precision    recall  f1-score   support\n",
      "\n",
      "           0       0.84      0.88      0.86      2732\n",
      "           1       0.83      0.77      0.80      2082\n",
      "\n",
      "    accuracy                           0.83      4814\n",
      "   macro avg       0.83      0.83      0.83      4814\n",
      "weighted avg       0.83      0.83      0.83      4814\n",
      "\n"
     ]
    }
   ],
   "source": [
    "print(metrics.accuracy_score(tfid_target_test, pred_tfid))\n",
    "print('Matriz de confusion', metrics.confusion_matrix(tfid_target_test, pred_tfid))\n",
    "print(metrics.classification_report(tfid_target_test, pred_tfid, target_names=['0', '1']))"
   ]
  },
  {
   "cell_type": "code",
   "execution_count": 19,
   "id": "fa0436d3",
   "metadata": {
    "scrolled": true
   },
   "outputs": [
    {
     "name": "stderr",
     "output_type": "stream",
     "text": [
      "C:\\Users\\Ximena\\AppData\\Local\\Programs\\Python\\Python310\\lib\\site-packages\\sklearn\\utils\\deprecation.py:87: FutureWarning: Function plot_roc_curve is deprecated; Function :func:`plot_roc_curve` is deprecated in 1.0 and will be removed in 1.2. Use one of the class methods: :meth:`sklearn.metric.RocCurveDisplay.from_predictions` or :meth:`sklearn.metric.RocCurveDisplay.from_estimator`.\n",
      "  warnings.warn(msg, category=FutureWarning)\n"
     ]
    },
    {
     "data": {
      "image/png": "[encoded data removed]",
      "text/plain": [
       "<Figure size 432x288 with 1 Axes>"
      ]
     },
     "metadata": {
      "needs_background": "light"
     },
     "output_type": "display_data"
    }
   ],
   "source": [
    "metrics.plot_roc_curve(naive_tfid, tfid_test, tfid_target_test)\n",
    "plt.show()"
   ]
  },
  {
   "cell_type": "markdown",
   "id": "a4f87dcd",
   "metadata": {},
   "source": [
    "### Modelo 3"
   ]
  },
  {
   "cell_type": "code",
   "execution_count": 20,
   "id": "5d0dc052",
   "metadata": {},
   "outputs": [
    {
     "data": {
      "text/plain": [
       "MultinomialNB()"
      ]
     },
     "execution_count": 20,
     "metadata": {},
     "output_type": "execute_result"
    }
   ],
   "source": [
    "naive_ngram = MultinomialNB()\n",
    "naive_ngram.fit(ngram_train, ngram_target_train)"
   ]
  },
  {
   "cell_type": "code",
   "execution_count": 21,
   "id": "8e4606cc",
   "metadata": {},
   "outputs": [],
   "source": [
    "pred_ngram = naive_ngram.predict(ngram_test)"
   ]
  },
  {
   "cell_type": "code",
   "execution_count": 22,
   "id": "bb3dca1e",
   "metadata": {
    "scrolled": true
   },
   "outputs": [
    {
     "name": "stdout",
     "output_type": "stream",
     "text": [
      "0.7611134191940174\n",
      "Matriz de confusion [[2093  639]\n",
      " [ 511 1571]]\n",
      "              precision    recall  f1-score   support\n",
      "\n",
      "           0       0.80      0.77      0.78      2732\n",
      "           1       0.71      0.75      0.73      2082\n",
      "\n",
      "    accuracy                           0.76      4814\n",
      "   macro avg       0.76      0.76      0.76      4814\n",
      "weighted avg       0.76      0.76      0.76      4814\n",
      "\n"
     ]
    }
   ],
   "source": [
    "print(metrics.accuracy_score(ngram_target_test, pred_ngram))\n",
    "print('Matriz de confusion', metrics.confusion_matrix(ngram_target_test, pred_ngram))\n",
    "print(metrics.classification_report(ngram_target_test, pred_ngram, target_names=['0', '1']))"
   ]
  },
  {
   "cell_type": "code",
   "execution_count": 23,
   "id": "b2c00a95",
   "metadata": {
    "scrolled": true
   },
   "outputs": [
    {
     "name": "stderr",
     "output_type": "stream",
     "text": [
      "C:\\Users\\Ximena\\AppData\\Local\\Programs\\Python\\Python310\\lib\\site-packages\\sklearn\\utils\\deprecation.py:87: FutureWarning: Function plot_roc_curve is deprecated; Function :func:`plot_roc_curve` is deprecated in 1.0 and will be removed in 1.2. Use one of the class methods: :meth:`sklearn.metric.RocCurveDisplay.from_predictions` or :meth:`sklearn.metric.RocCurveDisplay.from_estimator`.\n",
      "  warnings.warn(msg, category=FutureWarning)\n"
     ]
    },
    {
     "data": {
      "image/png": "[encoded data removed]",
      "text/plain": [
       "<Figure size 432x288 with 1 Axes>"
      ]
     },
     "metadata": {
      "needs_background": "light"
     },
     "output_type": "display_data"
    }
   ],
   "source": [
    "metrics.plot_roc_curve(naive_ngram, ngram_test, ngram_target_test)\n",
    "plt.show()"
   ]
  },
  {
   "cell_type": "markdown",
   "metadata": {},
   "source": [
    "### Conclusión"
   ]
  },
  {
   "cell_type": "markdown",
   "metadata": {},
   "source": [
    "Como se puede observar, entre la primera y tercera representación se obtuvo resultados similares, hasta idénticos, por lo cual el que sobresale es la segunda representación.En la segunda se obtuvo una precisión de 0.84, recall de 0.83 y f1-score de 0.83. En comparación a el primero y tercera, que obtuvieron 0.76, 0.76 y 0.76 respectivamente ambos, es evidente que el segundo produjo el mejor resultado.\n",
    "El segundo cuenta con un accuracy de 0.83, lo cual nos indica que el 83% de las observaciones predichas son correctas, es un resultado bastante bajo, dado que desde 0.95 se considera aceptable, pero siendo el más alto es el mejor de los presentes.\n"
   ]
  },
  {
   "cell_type": "code",
   "execution_count": null,
   "metadata": {},
   "outputs": [],
   "source": []
  }
 ],
 "metadata": {
  "kernelspec": {
   "display_name": "Python 3",
   "language": "python",
   "name": "python3"
  },
  "language_info": {
   "codemirror_mode": {
    "name": "ipython",
    "version": 3
   },
   "file_extension": ".py",
   "mimetype": "text/x-python",
   "name": "python",
   "nbconvert_exporter": "python",
   "pygments_lexer": "ipython3",
   "version": "3.7.3"
  }
 },
 "nbformat": 4,
 "nbformat_minor": 5
}

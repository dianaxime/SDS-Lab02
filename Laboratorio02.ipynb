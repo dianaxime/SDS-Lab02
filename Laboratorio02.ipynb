{
 "cells": [
  {
   "cell_type": "markdown",
   "metadata": {},
   "source": [
    "# Laboratorio 2"
   ]
  },
  {
   "cell_type": "markdown",
   "metadata": {},
   "source": [
    "Maria Ines Vasquez Figueroa, 18250\n",
    "\n",
    "Diana Ximena de Leon Figueroa, 18607"
   ]
  },
  {
   "cell_type": "code",
   "execution_count": 1,
   "metadata": {},
   "outputs": [],
   "source": [
    "import pandas as pd\n",
    "import numpy as np\n",
    "import nltk\n",
    "import unicodedata\n",
    "import re\n",
    "from sklearn.feature_extraction.text import CountVectorizer\n",
    "import contractions\n",
    "import re"
   ]
  },
  {
   "cell_type": "code",
   "execution_count": 2,
   "metadata": {},
   "outputs": [],
   "source": [
    "pd.options.display.max_colwidth = 200"
   ]
  },
  {
   "cell_type": "code",
   "execution_count": 3,
   "metadata": {},
   "outputs": [
    {
     "name": "stderr",
     "output_type": "stream",
     "text": [
      "[nltk_data] Downloading package punkt to\n",
      "[nltk_data]     C:\\Users\\DIANA\\AppData\\Roaming\\nltk_data...\n",
      "[nltk_data]   Package punkt is already up-to-date!\n",
      "[nltk_data] Downloading package wordnet to\n",
      "[nltk_data]     C:\\Users\\DIANA\\AppData\\Roaming\\nltk_data...\n",
      "[nltk_data]   Package wordnet is already up-to-date!\n",
      "[nltk_data] Downloading package stopwords to\n",
      "[nltk_data]     C:\\Users\\DIANA\\AppData\\Roaming\\nltk_data...\n",
      "[nltk_data]   Package stopwords is already up-to-date!\n",
      "[nltk_data] Downloading package averaged_perceptron_tagger to\n",
      "[nltk_data]     C:\\Users\\DIANA\\AppData\\Roaming\\nltk_data...\n",
      "[nltk_data]   Package averaged_perceptron_tagger is already up-to-\n",
      "[nltk_data]       date!\n"
     ]
    },
    {
     "data": {
      "text/plain": [
       "True"
      ]
     },
     "execution_count": 3,
     "metadata": {},
     "output_type": "execute_result"
    }
   ],
   "source": [
    "nltk.download('punkt')\n",
    "nltk.download('wordnet')\n",
    "nltk.download('stopwords')\n",
    "nltk.download('averaged_perceptron_tagger')"
   ]
  },
  {
   "cell_type": "code",
   "execution_count": 4,
   "metadata": {},
   "outputs": [],
   "source": [
    "df1 = pd.read_csv(\"enronSpamSubset.csv\")\n",
    "df2 = pd.read_csv(\"completeSpamAssassin.csv\")"
   ]
  },
  {
   "cell_type": "code",
   "execution_count": 5,
   "metadata": {},
   "outputs": [
    {
     "name": "stdout",
     "output_type": "stream",
     "text": [
      "<class 'pandas.core.frame.DataFrame'>\n",
      "RangeIndex: 10000 entries, 0 to 9999\n",
      "Data columns (total 4 columns):\n",
      " #   Column        Non-Null Count  Dtype \n",
      "---  ------        --------------  ----- \n",
      " 0   Unnamed: 0    10000 non-null  int64 \n",
      " 1   Unnamed: 0.1  10000 non-null  int64 \n",
      " 2   Body          10000 non-null  object\n",
      " 3   Label         10000 non-null  int64 \n",
      "dtypes: int64(3), object(1)\n",
      "memory usage: 312.6+ KB\n"
     ]
    }
   ],
   "source": [
    "df1.info()"
   ]
  },
  {
   "cell_type": "code",
   "execution_count": 6,
   "metadata": {},
   "outputs": [
    {
     "data": {
      "text/html": [
       "<div>\n",
       "<style scoped>\n",
       "    .dataframe tbody tr th:only-of-type {\n",
       "        vertical-align: middle;\n",
       "    }\n",
       "\n",
       "    .dataframe tbody tr th {\n",
       "        vertical-align: top;\n",
       "    }\n",
       "\n",
       "    .dataframe thead th {\n",
       "        text-align: right;\n",
       "    }\n",
       "</style>\n",
       "<table border=\"1\" class=\"dataframe\">\n",
       "  <thead>\n",
       "    <tr style=\"text-align: right;\">\n",
       "      <th></th>\n",
       "      <th>Unnamed: 0</th>\n",
       "      <th>Unnamed: 0.1</th>\n",
       "      <th>Body</th>\n",
       "      <th>Label</th>\n",
       "    </tr>\n",
       "  </thead>\n",
       "  <tbody>\n",
       "    <tr>\n",
       "      <th>0</th>\n",
       "      <td>2469</td>\n",
       "      <td>2469</td>\n",
       "      <td>Subject: stock promo mover : cwtd\\n * * * urgent investor trading alert * * *\\n weekly stock pick - - china world trade corp . ( ticker : cwtd )\\n * * breaking news * *\\n china world trade corp . ...</td>\n",
       "      <td>1</td>\n",
       "    </tr>\n",
       "    <tr>\n",
       "      <th>1</th>\n",
       "      <td>5063</td>\n",
       "      <td>5063</td>\n",
       "      <td>Subject: are you listed in major search engines ?\\n submitting your website in search engines may increase\\n your online sales dramatically .\\n lf you invested time and money into your website , y...</td>\n",
       "      <td>1</td>\n",
       "    </tr>\n",
       "    <tr>\n",
       "      <th>2</th>\n",
       "      <td>12564</td>\n",
       "      <td>12564</td>\n",
       "      <td>Subject: important information thu , 30 jun 2005 .\\n subject : important information thu , 30 jun 2005 .\\n thank you for using our online store and for your previous order . we have updated our on...</td>\n",
       "      <td>1</td>\n",
       "    </tr>\n",
       "    <tr>\n",
       "      <th>3</th>\n",
       "      <td>2796</td>\n",
       "      <td>2796</td>\n",
       "      <td>Subject: = ? utf - 8 ? q ? bask your life with ? =\\n = ? utf - 8 ? q ? individual incremen ? =\\n = ? utf - 8 ? q ? t internal secretio ? =\\n = ? utf - 8 ? q ? n ? =\\n after the 25 years , our phys...</td>\n",
       "      <td>1</td>\n",
       "    </tr>\n",
       "    <tr>\n",
       "      <th>4</th>\n",
       "      <td>1468</td>\n",
       "      <td>1468</td>\n",
       "      <td>Subject: \" bidstogo \" is places to go , things to do\\n hello ,\\n privacy policy : to\\n permanently opt out of our mailings simply\\n send a blank email to optout @ bidstogo . biz .\\n bidstogo invit...</td>\n",
       "      <td>1</td>\n",
       "    </tr>\n",
       "  </tbody>\n",
       "</table>\n",
       "</div>"
      ],
      "text/plain": [
       "   Unnamed: 0  Unnamed: 0.1  \\\n",
       "0        2469          2469   \n",
       "1        5063          5063   \n",
       "2       12564         12564   \n",
       "3        2796          2796   \n",
       "4        1468          1468   \n",
       "\n",
       "                                                                                                                                                                                                      Body  \\\n",
       "0  Subject: stock promo mover : cwtd\\n * * * urgent investor trading alert * * *\\n weekly stock pick - - china world trade corp . ( ticker : cwtd )\\n * * breaking news * *\\n china world trade corp . ...   \n",
       "1  Subject: are you listed in major search engines ?\\n submitting your website in search engines may increase\\n your online sales dramatically .\\n lf you invested time and money into your website , y...   \n",
       "2  Subject: important information thu , 30 jun 2005 .\\n subject : important information thu , 30 jun 2005 .\\n thank you for using our online store and for your previous order . we have updated our on...   \n",
       "3  Subject: = ? utf - 8 ? q ? bask your life with ? =\\n = ? utf - 8 ? q ? individual incremen ? =\\n = ? utf - 8 ? q ? t internal secretio ? =\\n = ? utf - 8 ? q ? n ? =\\n after the 25 years , our phys...   \n",
       "4  Subject: \" bidstogo \" is places to go , things to do\\n hello ,\\n privacy policy : to\\n permanently opt out of our mailings simply\\n send a blank email to optout @ bidstogo . biz .\\n bidstogo invit...   \n",
       "\n",
       "   Label  \n",
       "0      1  \n",
       "1      1  \n",
       "2      1  \n",
       "3      1  \n",
       "4      1  "
      ]
     },
     "execution_count": 6,
     "metadata": {},
     "output_type": "execute_result"
    }
   ],
   "source": [
    "df1.head()"
   ]
  },
  {
   "cell_type": "code",
   "execution_count": 7,
   "metadata": {},
   "outputs": [
    {
     "name": "stdout",
     "output_type": "stream",
     "text": [
      "<class 'pandas.core.frame.DataFrame'>\n",
      "RangeIndex: 6046 entries, 0 to 6045\n",
      "Data columns (total 3 columns):\n",
      " #   Column      Non-Null Count  Dtype \n",
      "---  ------      --------------  ----- \n",
      " 0   Unnamed: 0  6046 non-null   int64 \n",
      " 1   Body        6045 non-null   object\n",
      " 2   Label       6046 non-null   int64 \n",
      "dtypes: int64(2), object(1)\n",
      "memory usage: 141.8+ KB\n"
     ]
    }
   ],
   "source": [
    "df2.info()"
   ]
  },
  {
   "cell_type": "code",
   "execution_count": 8,
   "metadata": {},
   "outputs": [
    {
     "data": {
      "text/html": [
       "<div>\n",
       "<style scoped>\n",
       "    .dataframe tbody tr th:only-of-type {\n",
       "        vertical-align: middle;\n",
       "    }\n",
       "\n",
       "    .dataframe tbody tr th {\n",
       "        vertical-align: top;\n",
       "    }\n",
       "\n",
       "    .dataframe thead th {\n",
       "        text-align: right;\n",
       "    }\n",
       "</style>\n",
       "<table border=\"1\" class=\"dataframe\">\n",
       "  <thead>\n",
       "    <tr style=\"text-align: right;\">\n",
       "      <th></th>\n",
       "      <th>Unnamed: 0</th>\n",
       "      <th>Body</th>\n",
       "      <th>Label</th>\n",
       "    </tr>\n",
       "  </thead>\n",
       "  <tbody>\n",
       "    <tr>\n",
       "      <th>0</th>\n",
       "      <td>0</td>\n",
       "      <td>\\nSave up to 70% on Life Insurance.\\nWhy Spend More Than You Have To?Life Quote Savings\\nEnsuring your \\n      family's financial security is very important. Life Quote Savings makes \\n      buyin...</td>\n",
       "      <td>1</td>\n",
       "    </tr>\n",
       "    <tr>\n",
       "      <th>1</th>\n",
       "      <td>1</td>\n",
       "      <td>1) Fight The Risk of Cancer!\\nhttp://www.adclick.ws/p.cfm?o=315&amp;s=pk0072) Slim Down - Guaranteed to lose 10-12 lbs in 30 days\\nhttp://www.adclick.ws/p.cfm?o=249&amp;s=pk0073) Get the Child Support You...</td>\n",
       "      <td>1</td>\n",
       "    </tr>\n",
       "    <tr>\n",
       "      <th>2</th>\n",
       "      <td>2</td>\n",
       "      <td>1) Fight The Risk of Cancer!\\nhttp://www.adclick.ws/p.cfm?o=315&amp;s=pk0072) Slim Down - Guaranteed to lose 10-12 lbs in 30 days\\nhttp://www.adclick.ws/p.cfm?o=249&amp;s=pk0073) Get the Child Support You...</td>\n",
       "      <td>1</td>\n",
       "    </tr>\n",
       "    <tr>\n",
       "      <th>3</th>\n",
       "      <td>3</td>\n",
       "      <td>##################################################\\n#                                                #\\n#                 Adult Club                     #\\n#           Offers FREE Membership      ...</td>\n",
       "      <td>1</td>\n",
       "    </tr>\n",
       "    <tr>\n",
       "      <th>4</th>\n",
       "      <td>4</td>\n",
       "      <td>I thought you might like these:\\n1) Slim Down - Guaranteed to lose 10-12 lbs in 30 days\\nhttp://www.freeyankee.com/cgi/fy2/to.cgi?l=822slim12) Fight The Risk of Cancer! \\nhttp://www.freeyankee.com...</td>\n",
       "      <td>1</td>\n",
       "    </tr>\n",
       "  </tbody>\n",
       "</table>\n",
       "</div>"
      ],
      "text/plain": [
       "   Unnamed: 0  \\\n",
       "0           0   \n",
       "1           1   \n",
       "2           2   \n",
       "3           3   \n",
       "4           4   \n",
       "\n",
       "                                                                                                                                                                                                      Body  \\\n",
       "0  \\nSave up to 70% on Life Insurance.\\nWhy Spend More Than You Have To?Life Quote Savings\\nEnsuring your \\n      family's financial security is very important. Life Quote Savings makes \\n      buyin...   \n",
       "1  1) Fight The Risk of Cancer!\\nhttp://www.adclick.ws/p.cfm?o=315&s=pk0072) Slim Down - Guaranteed to lose 10-12 lbs in 30 days\\nhttp://www.adclick.ws/p.cfm?o=249&s=pk0073) Get the Child Support You...   \n",
       "2  1) Fight The Risk of Cancer!\\nhttp://www.adclick.ws/p.cfm?o=315&s=pk0072) Slim Down - Guaranteed to lose 10-12 lbs in 30 days\\nhttp://www.adclick.ws/p.cfm?o=249&s=pk0073) Get the Child Support You...   \n",
       "3  ##################################################\\n#                                                #\\n#                 Adult Club                     #\\n#           Offers FREE Membership      ...   \n",
       "4  I thought you might like these:\\n1) Slim Down - Guaranteed to lose 10-12 lbs in 30 days\\nhttp://www.freeyankee.com/cgi/fy2/to.cgi?l=822slim12) Fight The Risk of Cancer! \\nhttp://www.freeyankee.com...   \n",
       "\n",
       "   Label  \n",
       "0      1  \n",
       "1      1  \n",
       "2      1  \n",
       "3      1  \n",
       "4      1  "
      ]
     },
     "execution_count": 8,
     "metadata": {},
     "output_type": "execute_result"
    }
   ],
   "source": [
    "df2.head()"
   ]
  },
  {
   "cell_type": "code",
   "execution_count": 9,
   "metadata": {},
   "outputs": [],
   "source": [
    "frames = [df1, df2]\n",
    "df_final = pd.concat(frames)"
   ]
  },
  {
   "cell_type": "code",
   "execution_count": 10,
   "metadata": {},
   "outputs": [
    {
     "name": "stdout",
     "output_type": "stream",
     "text": [
      "<class 'pandas.core.frame.DataFrame'>\n",
      "Int64Index: 16046 entries, 0 to 6045\n",
      "Data columns (total 4 columns):\n",
      " #   Column        Non-Null Count  Dtype  \n",
      "---  ------        --------------  -----  \n",
      " 0   Unnamed: 0    16046 non-null  int64  \n",
      " 1   Unnamed: 0.1  10000 non-null  float64\n",
      " 2   Body          16045 non-null  object \n",
      " 3   Label         16046 non-null  int64  \n",
      "dtypes: float64(1), int64(2), object(1)\n",
      "memory usage: 626.8+ KB\n"
     ]
    }
   ],
   "source": [
    "df_final.info()"
   ]
  },
  {
   "cell_type": "code",
   "execution_count": 11,
   "metadata": {},
   "outputs": [
    {
     "data": {
      "text/html": [
       "<div>\n",
       "<style scoped>\n",
       "    .dataframe tbody tr th:only-of-type {\n",
       "        vertical-align: middle;\n",
       "    }\n",
       "\n",
       "    .dataframe tbody tr th {\n",
       "        vertical-align: top;\n",
       "    }\n",
       "\n",
       "    .dataframe thead th {\n",
       "        text-align: right;\n",
       "    }\n",
       "</style>\n",
       "<table border=\"1\" class=\"dataframe\">\n",
       "  <thead>\n",
       "    <tr style=\"text-align: right;\">\n",
       "      <th></th>\n",
       "      <th>Unnamed: 0</th>\n",
       "      <th>Unnamed: 0.1</th>\n",
       "      <th>Body</th>\n",
       "      <th>Label</th>\n",
       "    </tr>\n",
       "  </thead>\n",
       "  <tbody>\n",
       "    <tr>\n",
       "      <th>0</th>\n",
       "      <td>2469</td>\n",
       "      <td>2469.0</td>\n",
       "      <td>Subject: stock promo mover : cwtd\\n * * * urgent investor trading alert * * *\\n weekly stock pick - - china world trade corp . ( ticker : cwtd )\\n * * breaking news * *\\n china world trade corp . ...</td>\n",
       "      <td>1</td>\n",
       "    </tr>\n",
       "    <tr>\n",
       "      <th>1</th>\n",
       "      <td>5063</td>\n",
       "      <td>5063.0</td>\n",
       "      <td>Subject: are you listed in major search engines ?\\n submitting your website in search engines may increase\\n your online sales dramatically .\\n lf you invested time and money into your website , y...</td>\n",
       "      <td>1</td>\n",
       "    </tr>\n",
       "    <tr>\n",
       "      <th>2</th>\n",
       "      <td>12564</td>\n",
       "      <td>12564.0</td>\n",
       "      <td>Subject: important information thu , 30 jun 2005 .\\n subject : important information thu , 30 jun 2005 .\\n thank you for using our online store and for your previous order . we have updated our on...</td>\n",
       "      <td>1</td>\n",
       "    </tr>\n",
       "    <tr>\n",
       "      <th>3</th>\n",
       "      <td>2796</td>\n",
       "      <td>2796.0</td>\n",
       "      <td>Subject: = ? utf - 8 ? q ? bask your life with ? =\\n = ? utf - 8 ? q ? individual incremen ? =\\n = ? utf - 8 ? q ? t internal secretio ? =\\n = ? utf - 8 ? q ? n ? =\\n after the 25 years , our phys...</td>\n",
       "      <td>1</td>\n",
       "    </tr>\n",
       "    <tr>\n",
       "      <th>4</th>\n",
       "      <td>1468</td>\n",
       "      <td>1468.0</td>\n",
       "      <td>Subject: \" bidstogo \" is places to go , things to do\\n hello ,\\n privacy policy : to\\n permanently opt out of our mailings simply\\n send a blank email to optout @ bidstogo . biz .\\n bidstogo invit...</td>\n",
       "      <td>1</td>\n",
       "    </tr>\n",
       "  </tbody>\n",
       "</table>\n",
       "</div>"
      ],
      "text/plain": [
       "   Unnamed: 0  Unnamed: 0.1  \\\n",
       "0        2469        2469.0   \n",
       "1        5063        5063.0   \n",
       "2       12564       12564.0   \n",
       "3        2796        2796.0   \n",
       "4        1468        1468.0   \n",
       "\n",
       "                                                                                                                                                                                                      Body  \\\n",
       "0  Subject: stock promo mover : cwtd\\n * * * urgent investor trading alert * * *\\n weekly stock pick - - china world trade corp . ( ticker : cwtd )\\n * * breaking news * *\\n china world trade corp . ...   \n",
       "1  Subject: are you listed in major search engines ?\\n submitting your website in search engines may increase\\n your online sales dramatically .\\n lf you invested time and money into your website , y...   \n",
       "2  Subject: important information thu , 30 jun 2005 .\\n subject : important information thu , 30 jun 2005 .\\n thank you for using our online store and for your previous order . we have updated our on...   \n",
       "3  Subject: = ? utf - 8 ? q ? bask your life with ? =\\n = ? utf - 8 ? q ? individual incremen ? =\\n = ? utf - 8 ? q ? t internal secretio ? =\\n = ? utf - 8 ? q ? n ? =\\n after the 25 years , our phys...   \n",
       "4  Subject: \" bidstogo \" is places to go , things to do\\n hello ,\\n privacy policy : to\\n permanently opt out of our mailings simply\\n send a blank email to optout @ bidstogo . biz .\\n bidstogo invit...   \n",
       "\n",
       "   Label  \n",
       "0      1  \n",
       "1      1  \n",
       "2      1  \n",
       "3      1  \n",
       "4      1  "
      ]
     },
     "execution_count": 11,
     "metadata": {},
     "output_type": "execute_result"
    }
   ],
   "source": [
    "df_final.head()"
   ]
  },
  {
   "cell_type": "code",
   "execution_count": 12,
   "metadata": {},
   "outputs": [],
   "source": [
    "df_final = df_final[['Body','Label']]"
   ]
  },
  {
   "cell_type": "code",
   "execution_count": 13,
   "metadata": {},
   "outputs": [
    {
     "data": {
      "text/html": [
       "<div>\n",
       "<style scoped>\n",
       "    .dataframe tbody tr th:only-of-type {\n",
       "        vertical-align: middle;\n",
       "    }\n",
       "\n",
       "    .dataframe tbody tr th {\n",
       "        vertical-align: top;\n",
       "    }\n",
       "\n",
       "    .dataframe thead th {\n",
       "        text-align: right;\n",
       "    }\n",
       "</style>\n",
       "<table border=\"1\" class=\"dataframe\">\n",
       "  <thead>\n",
       "    <tr style=\"text-align: right;\">\n",
       "      <th></th>\n",
       "      <th>Body</th>\n",
       "      <th>Label</th>\n",
       "    </tr>\n",
       "  </thead>\n",
       "  <tbody>\n",
       "    <tr>\n",
       "      <th>0</th>\n",
       "      <td>Subject: stock promo mover : cwtd\\n * * * urgent investor trading alert * * *\\n weekly stock pick - - china world trade corp . ( ticker : cwtd )\\n * * breaking news * *\\n china world trade corp . ...</td>\n",
       "      <td>1</td>\n",
       "    </tr>\n",
       "    <tr>\n",
       "      <th>1</th>\n",
       "      <td>Subject: are you listed in major search engines ?\\n submitting your website in search engines may increase\\n your online sales dramatically .\\n lf you invested time and money into your website , y...</td>\n",
       "      <td>1</td>\n",
       "    </tr>\n",
       "    <tr>\n",
       "      <th>2</th>\n",
       "      <td>Subject: important information thu , 30 jun 2005 .\\n subject : important information thu , 30 jun 2005 .\\n thank you for using our online store and for your previous order . we have updated our on...</td>\n",
       "      <td>1</td>\n",
       "    </tr>\n",
       "    <tr>\n",
       "      <th>3</th>\n",
       "      <td>Subject: = ? utf - 8 ? q ? bask your life with ? =\\n = ? utf - 8 ? q ? individual incremen ? =\\n = ? utf - 8 ? q ? t internal secretio ? =\\n = ? utf - 8 ? q ? n ? =\\n after the 25 years , our phys...</td>\n",
       "      <td>1</td>\n",
       "    </tr>\n",
       "    <tr>\n",
       "      <th>4</th>\n",
       "      <td>Subject: \" bidstogo \" is places to go , things to do\\n hello ,\\n privacy policy : to\\n permanently opt out of our mailings simply\\n send a blank email to optout @ bidstogo . biz .\\n bidstogo invit...</td>\n",
       "      <td>1</td>\n",
       "    </tr>\n",
       "  </tbody>\n",
       "</table>\n",
       "</div>"
      ],
      "text/plain": [
       "                                                                                                                                                                                                      Body  \\\n",
       "0  Subject: stock promo mover : cwtd\\n * * * urgent investor trading alert * * *\\n weekly stock pick - - china world trade corp . ( ticker : cwtd )\\n * * breaking news * *\\n china world trade corp . ...   \n",
       "1  Subject: are you listed in major search engines ?\\n submitting your website in search engines may increase\\n your online sales dramatically .\\n lf you invested time and money into your website , y...   \n",
       "2  Subject: important information thu , 30 jun 2005 .\\n subject : important information thu , 30 jun 2005 .\\n thank you for using our online store and for your previous order . we have updated our on...   \n",
       "3  Subject: = ? utf - 8 ? q ? bask your life with ? =\\n = ? utf - 8 ? q ? individual incremen ? =\\n = ? utf - 8 ? q ? t internal secretio ? =\\n = ? utf - 8 ? q ? n ? =\\n after the 25 years , our phys...   \n",
       "4  Subject: \" bidstogo \" is places to go , things to do\\n hello ,\\n privacy policy : to\\n permanently opt out of our mailings simply\\n send a blank email to optout @ bidstogo . biz .\\n bidstogo invit...   \n",
       "\n",
       "   Label  \n",
       "0      1  \n",
       "1      1  \n",
       "2      1  \n",
       "3      1  \n",
       "4      1  "
      ]
     },
     "execution_count": 13,
     "metadata": {},
     "output_type": "execute_result"
    }
   ],
   "source": [
    "df_final.head()"
   ]
  },
  {
   "cell_type": "markdown",
   "metadata": {},
   "source": [
    "## Preprocesamiento"
   ]
  },
  {
   "cell_type": "code",
   "execution_count": 14,
   "metadata": {},
   "outputs": [],
   "source": [
    "df_final['Body'] = df_final['Body'].str.lower()"
   ]
  },
  {
   "cell_type": "code",
   "execution_count": 15,
   "metadata": {},
   "outputs": [],
   "source": [
    "df_final['Body'] = df_final['Body'].str.strip()"
   ]
  },
  {
   "cell_type": "code",
   "execution_count": 16,
   "metadata": {},
   "outputs": [],
   "source": [
    "def removerAcentos(texto):\n",
    "    texto = unicodedata.normalize('NFKD', str(texto)).encode('ascii','ignore').decode('utf-8','ignore')\n",
    "    return texto"
   ]
  },
  {
   "cell_type": "code",
   "execution_count": 17,
   "metadata": {},
   "outputs": [],
   "source": [
    "df_final['Body'] = df_final['Body'].apply(removerAcentos)"
   ]
  },
  {
   "cell_type": "code",
   "execution_count": 18,
   "metadata": {},
   "outputs": [],
   "source": [
    "def removerCaracteresEspecialesNumerosSimbolos(texto, removerDigitos = False):\n",
    "    patron = r'[^a-zA-Z0-9\\s]' if not removerDigitos else r'[^a-zA-Z\\s]'\n",
    "    texto = re.sub(patron, '', texto, re.I|re.A)\n",
    "    return texto"
   ]
  },
  {
   "cell_type": "code",
   "execution_count": 19,
   "metadata": {},
   "outputs": [],
   "source": [
    "df_final['Body'] = df_final['Body'].apply(removerCaracteresEspecialesNumerosSimbolos)"
   ]
  },
  {
   "cell_type": "code",
   "execution_count": 20,
   "metadata": {},
   "outputs": [],
   "source": [
    "df_final['Body'] = df_final['Body'].apply(contractions.fix)"
   ]
  },
  {
   "cell_type": "code",
   "execution_count": 21,
   "metadata": {},
   "outputs": [],
   "source": [
    "stop_words = nltk.corpus.stopwords.words('english')\n",
    "\n",
    "def normalize_document(doc):\n",
    "    # tokenize document\n",
    "    tokens = nltk.word_tokenize(doc)\n",
    "    # filter stopwords out of document\n",
    "    filtered_tokens = [token for token in tokens if token not in stop_words]\n",
    "    # re-create document from filtered tokens\n",
    "    doc = ' '.join(filtered_tokens)\n",
    "    return doc"
   ]
  },
  {
   "cell_type": "code",
   "execution_count": 22,
   "metadata": {},
   "outputs": [],
   "source": [
    "df_final['Body'] = df_final['Body'].apply(normalize_document)"
   ]
  },
  {
   "cell_type": "code",
   "execution_count": 23,
   "metadata": {},
   "outputs": [
    {
     "data": {
      "text/html": [
       "<div>\n",
       "<style scoped>\n",
       "    .dataframe tbody tr th:only-of-type {\n",
       "        vertical-align: middle;\n",
       "    }\n",
       "\n",
       "    .dataframe tbody tr th {\n",
       "        vertical-align: top;\n",
       "    }\n",
       "\n",
       "    .dataframe thead th {\n",
       "        text-align: right;\n",
       "    }\n",
       "</style>\n",
       "<table border=\"1\" class=\"dataframe\">\n",
       "  <thead>\n",
       "    <tr style=\"text-align: right;\">\n",
       "      <th></th>\n",
       "      <th>Body</th>\n",
       "      <th>Label</th>\n",
       "    </tr>\n",
       "  </thead>\n",
       "  <tbody>\n",
       "    <tr>\n",
       "      <th>0</th>\n",
       "      <td>subject stock promo mover cwtd urgent investor trading alert weekly stock pick china world trade corp ticker cwtd breaking news china world trade corp enters agreement acquire majority stake ceo c...</td>\n",
       "      <td>1</td>\n",
       "    </tr>\n",
       "    <tr>\n",
       "      <th>1</th>\n",
       "      <td>subject listed major search engines submitting website search engines may increase online sales dramatically lf invested time money website simply must submit website oniine otherwise wili invisib...</td>\n",
       "      <td>1</td>\n",
       "    </tr>\n",
       "    <tr>\n",
       "      <th>2</th>\n",
       "      <td>subject important information thu 30 jun 2005 subject important information thu 30 jun 2005 thank using online store previous order updated online software store latest version programs full catal...</td>\n",
       "      <td>1</td>\n",
       "    </tr>\n",
       "    <tr>\n",
       "      <th>3</th>\n",
       "      <td>subject utf 8 q bask life utf 8 q individual incremen utf 8 q internal secretio utf 8 q n 25 years physical structure tardily arrests carries grave hormone known mortal increase hormone step gover...</td>\n",
       "      <td>1</td>\n",
       "    </tr>\n",
       "    <tr>\n",
       "      <th>4</th>\n",
       "      <td>subject bidstogo places go things hello privacy policy permanently opt mailings simply send blank email optout bidstogo biz bidstogo invites visit explore http www bidstogo biz site dedicated plac...</td>\n",
       "      <td>1</td>\n",
       "    </tr>\n",
       "  </tbody>\n",
       "</table>\n",
       "</div>"
      ],
      "text/plain": [
       "                                                                                                                                                                                                      Body  \\\n",
       "0  subject stock promo mover cwtd urgent investor trading alert weekly stock pick china world trade corp ticker cwtd breaking news china world trade corp enters agreement acquire majority stake ceo c...   \n",
       "1  subject listed major search engines submitting website search engines may increase online sales dramatically lf invested time money website simply must submit website oniine otherwise wili invisib...   \n",
       "2  subject important information thu 30 jun 2005 subject important information thu 30 jun 2005 thank using online store previous order updated online software store latest version programs full catal...   \n",
       "3  subject utf 8 q bask life utf 8 q individual incremen utf 8 q internal secretio utf 8 q n 25 years physical structure tardily arrests carries grave hormone known mortal increase hormone step gover...   \n",
       "4  subject bidstogo places go things hello privacy policy permanently opt mailings simply send blank email optout bidstogo biz bidstogo invites visit explore http www bidstogo biz site dedicated plac...   \n",
       "\n",
       "   Label  \n",
       "0      1  \n",
       "1      1  \n",
       "2      1  \n",
       "3      1  \n",
       "4      1  "
      ]
     },
     "execution_count": 23,
     "metadata": {},
     "output_type": "execute_result"
    }
   ],
   "source": [
    "df_final.head()"
   ]
  },
  {
   "cell_type": "markdown",
   "metadata": {},
   "source": [
    "## Representación de texto"
   ]
  },
  {
   "cell_type": "code",
   "execution_count": 24,
   "metadata": {},
   "outputs": [
    {
     "ename": "NameError",
     "evalue": "name 'norm_corpus' is not defined",
     "output_type": "error",
     "traceback": [
      "\u001b[1;31m---------------------------------------------------------------------------\u001b[0m",
      "\u001b[1;31mNameError\u001b[0m                                 Traceback (most recent call last)",
      "\u001b[1;32m~\\AppData\\Local\\Temp/ipykernel_8964/1616983890.py\u001b[0m in \u001b[0;36m<module>\u001b[1;34m\u001b[0m\n\u001b[0;32m      1\u001b[0m \u001b[0mcv\u001b[0m \u001b[1;33m=\u001b[0m \u001b[0mCountVectorizer\u001b[0m\u001b[1;33m(\u001b[0m\u001b[0mmin_df\u001b[0m\u001b[1;33m=\u001b[0m\u001b[1;36m0.\u001b[0m\u001b[1;33m,\u001b[0m \u001b[0mmax_df\u001b[0m\u001b[1;33m=\u001b[0m\u001b[1;36m1.\u001b[0m\u001b[1;33m)\u001b[0m\u001b[1;33m\u001b[0m\u001b[1;33m\u001b[0m\u001b[0m\n\u001b[1;32m----> 2\u001b[1;33m \u001b[0mcv_matrix\u001b[0m \u001b[1;33m=\u001b[0m \u001b[0mcv\u001b[0m\u001b[1;33m.\u001b[0m\u001b[0mfit_transform\u001b[0m\u001b[1;33m(\u001b[0m\u001b[0mnorm_corpus\u001b[0m\u001b[1;33m)\u001b[0m\u001b[1;33m\u001b[0m\u001b[1;33m\u001b[0m\u001b[0m\n\u001b[0m\u001b[0;32m      3\u001b[0m \u001b[0mcv_matrix\u001b[0m \u001b[1;33m=\u001b[0m \u001b[0mcv_matrix\u001b[0m\u001b[1;33m.\u001b[0m\u001b[0mtoarray\u001b[0m\u001b[1;33m(\u001b[0m\u001b[1;33m)\u001b[0m\u001b[1;33m\u001b[0m\u001b[1;33m\u001b[0m\u001b[0m\n\u001b[0;32m      4\u001b[0m \u001b[0mcv_matrix\u001b[0m\u001b[1;33m\u001b[0m\u001b[1;33m\u001b[0m\u001b[0m\n",
      "\u001b[1;31mNameError\u001b[0m: name 'norm_corpus' is not defined"
     ]
    }
   ],
   "source": [
    "cv = CountVectorizer(min_df=0., max_df=1.)\n",
    "cv_matrix = cv.fit_transform(norm_corpus)\n",
    "cv_matrix = cv_matrix.toarray()\n",
    "cv_matrix"
   ]
  },
  {
   "cell_type": "code",
   "execution_count": null,
   "metadata": {},
   "outputs": [],
   "source": [
    "# Palabras únicas del corpus\n",
    "vocabulario = cv.get_feature_names()\n",
    "# Mostrar el vector\n",
    "pd.DataFrame(cv_matrix, columns=vocabulario)"
   ]
  }
 ],
 "metadata": {
  "kernelspec": {
   "display_name": "Python 3 (ipykernel)",
   "language": "python",
   "name": "python3"
  },
  "language_info": {
   "codemirror_mode": {
    "name": "ipython",
    "version": 3
   },
   "file_extension": ".py",
   "mimetype": "text/x-python",
   "name": "python",
   "nbconvert_exporter": "python",
   "pygments_lexer": "ipython3",
   "version": "3.9.0"
  }
 },
 "nbformat": 4,
 "nbformat_minor": 4
}
